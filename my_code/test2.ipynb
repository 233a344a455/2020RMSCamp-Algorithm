{
 "cells": [
  {
   "cell_type": "code",
   "execution_count": 22,
   "metadata": {},
   "outputs": [],
   "source": [
    "import numpy as np\n",
    "import random\n",
    "import time\n",
    "from IPython.display import display,Latex,Math\n",
    "%matplotlib inline\n",
    " \n",
    "from IPython.core.interactiveshell import InteractiveShell\n",
    "sh = InteractiveShell.instance()\n",
    " \n",
    "def number_to_str(n,cut=5):\n",
    "    ns=str(n)\n",
    "    format_='{0:.'+str(cut)+'f}'\n",
    "    if 'e' in ns or ('.' in ns and len(ns)>cut+1):\n",
    "        return format_.format(n)\n",
    "    else:\n",
    "        if n == 0:\n",
    "            return (\"{\\color{blue} %s}\" %n)\n",
    "        return str(n)\n",
    " \n",
    "def matrix_to_latex(mat,style='bmatrix'):\n",
    "    if type(mat)==np.matrixlib.defmatrix.matrix:\n",
    "        mat=mat.A\n",
    "    head=r'\\begin{'+style+'}'\n",
    "    tail=r'\\end{'+style+'}'\n",
    "    if len(mat.shape)==1:\n",
    "        body=r'\\\\'.join([str(el) for el in mat])\n",
    "        return head+body+tail\n",
    "    elif len(mat.shape)==2:\n",
    "        lines=[]\n",
    "        for row in mat:\n",
    "            lines.append('&'.join([number_to_str(el)  for el in row])+r'\\\\')\n",
    "        s=head+' '.join(lines)+tail\n",
    "        return s\n",
    "    return None\n",
    " \n",
    "sh.display_formatter.formatters['text/latex'].type_printers[np.ndarray]=matrix_to_latex"
   ]
  },
  {
   "cell_type": "code",
   "execution_count": 24,
   "metadata": {},
   "outputs": [],
   "source": [
    "\n",
    "class MyLinkSearch():\n",
    "    def __init__(self, map_=None, auto_grader=None):\n",
    "        self.auto_grader = auto_grader\n",
    "#         self.pretreat(map_)\n",
    "\n",
    "    def link(self, x1, y1, x2, y2):\n",
    "            print(\"Linked (%s, %s) to (%s, %s).\" % (x1, y1, x2, y2))\n",
    "            if self.auto_grader:\n",
    "                ret = self.auto_grader.link(x1-1, y1-1, x2-1, y2-1)\n",
    "                self.map[x1, y1] = self.map[x2, y2] = 0\n",
    "                if ret > 0:\n",
    "                    return ret\n",
    "                else:\n",
    "                    raise Exception(\"ret == %s\" %ret)\n",
    "\n",
    "    def direct(self, x1, y1, x2, y2):\n",
    "        if x1 == x2 and y1 == y2:\n",
    "            return False\n",
    "        elif x1 == x2:    # 平行y轴\n",
    "            return not self.map[x1, y1:y2:(2*(y1 < y2)-1)][1:].any()\n",
    "        elif y1 == y2:    # 平行x轴\n",
    "            return not self.map[x1:x2:(2*(x1 < x2)-1), y1][1:].any()\n",
    "        return False\n",
    "\n",
    "    def is_empty(self, x, y):\n",
    "        return not self.map[x, y]\n",
    "\n",
    "    def get_boarder(self, x, y, direction):\n",
    "        if direction=='x':\n",
    "            a = b = x\n",
    "            while a>0 and self.is_empty(a-1, y):\n",
    "                a -= 1\n",
    "            while b<9 and self.is_empty(b+1, y):\n",
    "                b += 1\n",
    "        elif direction=='y':\n",
    "            a = b = y\n",
    "            while a>0 and self.is_empty(x, a-1):\n",
    "                a -= 1\n",
    "            while b<9 and self.is_empty(x, b+1):\n",
    "                b += 1\n",
    "        return a, b + 1\n",
    "\n",
    "    def one_corner(self, x1, y1, x2, y2):\n",
    "        p1 = self.direct(x1, y2, x1, y1) and self.direct(x1, y2, x2, y2) and not self.map[x1, y2] # x1, y2\n",
    "        p2 = self.direct(x2, y1, x1, y1) and self.direct(x2, y1, x2, y2) and not self.map[x2, y1] # x2, y1\n",
    "        return p1 or p2\n",
    "        \n",
    "    def two_corner(self, x1, y1, x2, y2):\n",
    "        a1, b1 = self.get_boarder(x1, y1, 'y')\n",
    "        a2, b2 = self.get_boarder(x2, y2, 'y')\n",
    "        for y in range(max(a1, a2), min(b1, b2)):\n",
    "            if self.direct(x1, y, x2, y):\n",
    "                return True\n",
    "        \n",
    "        a1, b1 = self.get_boarder(x1, y1, 'x')\n",
    "        a2, b2 = self.get_boarder(x2, y2, 'x')\n",
    "        for x in range(max(a1, a2), min(b1, b2)):\n",
    "            if self.direct(x, y1, x, y2):\n",
    "                return True\n",
    "\n",
    "        return False\n",
    "\n",
    "    def three_corner(self, x1, y1, x2, y2):\n",
    "        ax1, bx1 = self.get_boarder(x1, y1, 'x')\n",
    "        ay2, by2 = self.get_boarder(x2, y2, 'y')\n",
    "        ax2, bx2 = self.get_boarder(x2, y2, 'x')\n",
    "        ay1, by1 = self.get_boarder(x1, y1, 'y')\n",
    "        \n",
    "        for x in range(ax1, bx1):\n",
    "            for y in range(ay2, by2):\n",
    "                if self.is_empty(x, y) and self.direct(x2, y, x, y) and self.direct(x, y, x, y1):\n",
    "                    print(x, y, 'a')\n",
    "                    return True\n",
    "\n",
    "        for x in range(ax2, bx2):\n",
    "            for y in range(ay1, by1):\n",
    "                if self.is_empty(x, y) and self.direct(x1, y, x, y) and self.direct(x, y, x, y2):\n",
    "                    print(x, y, 'b')\n",
    "                    return True\n",
    "        \n",
    "        return False\n",
    "\n",
    "    def search_link(self, x1, y1, x2, y2):\n",
    "        if x1 == x2 and y1 == y2:\n",
    "            return None\n",
    "        if self.direct(x1, y1, x2, y2):\n",
    "            print('1 line.')\n",
    "            return 50\n",
    "        elif self.one_corner(x1, y1, x2, y2):\n",
    "            print('2 lines.')\n",
    "            return 20\n",
    "        elif self.two_corner(x1, y1, x2, y2):\n",
    "            print('3 lines.')\n",
    "            return 10\n",
    "        elif self.three_corner(x1, y1, x2, y2):\n",
    "            print('4 lines.')\n",
    "            return 0\n",
    "        else:\n",
    "            print('more than 4 lines.')\n",
    "            return None\n",
    "    \n",
    "    def pretreat(self, map_):\n",
    "        self.map = np.pad(map_,((1,1),(1,1)),'constant',constant_values = (0,0)) \n"
   ]
  },
  {
   "cell_type": "code",
   "execution_count": 25,
   "metadata": {},
   "outputs": [
    {
     "data": {
      "text/latex": [
       "\\begin{bmatrix}{\\color{blue} 0}&{\\color{blue} 0}&{\\color{blue} 0}&{\\color{blue} 0}&{\\color{blue} 0}&{\\color{blue} 0}&{\\color{blue} 0}&{\\color{blue} 0}&{\\color{blue} 0}&{\\color{blue} 0}\\\\ {\\color{blue} 0}&22&7&{\\color{blue} 0}&20&{\\color{blue} 0}&{\\color{blue} 0}&{\\color{blue} 0}&16&{\\color{blue} 0}\\\\ {\\color{blue} 0}&{\\color{blue} 0}&{\\color{blue} 0}&15&18&{\\color{blue} 0}&{\\color{blue} 0}&27&28&{\\color{blue} 0}\\\\ {\\color{blue} 0}&2&4&4&26&{\\color{blue} 0}&21&23&26&{\\color{blue} 0}\\\\ {\\color{blue} 0}&10&15&7&22&14&20&26&14&{\\color{blue} 0}\\\\ {\\color{blue} 0}&{\\color{blue} 0}&14&15&14&4&23&14&14&{\\color{blue} 0}\\\\ {\\color{blue} 0}&10&20&21&16&14&23&20&17&{\\color{blue} 0}\\\\ {\\color{blue} 0}&2&26&15&28&23&10&17&10&{\\color{blue} 0}\\\\ {\\color{blue} 0}&4&14&27&27&29&27&29&18&{\\color{blue} 0}\\\\ {\\color{blue} 0}&{\\color{blue} 0}&{\\color{blue} 0}&{\\color{blue} 0}&{\\color{blue} 0}&{\\color{blue} 0}&{\\color{blue} 0}&{\\color{blue} 0}&{\\color{blue} 0}&{\\color{blue} 0}\\\\\\end{bmatrix}"
      ],
      "text/plain": [
       "array([[ 0,  0,  0,  0,  0,  0,  0,  0,  0,  0],\n",
       "       [ 0, 22,  7,  0, 20,  0,  0,  0, 16,  0],\n",
       "       [ 0,  0,  0, 15, 18,  0,  0, 27, 28,  0],\n",
       "       [ 0,  2,  4,  4, 26,  0, 21, 23, 26,  0],\n",
       "       [ 0, 10, 15,  7, 22, 14, 20, 26, 14,  0],\n",
       "       [ 0,  0, 14, 15, 14,  4, 23, 14, 14,  0],\n",
       "       [ 0, 10, 20, 21, 16, 14, 23, 20, 17,  0],\n",
       "       [ 0,  2, 26, 15, 28, 23, 10, 17, 10,  0],\n",
       "       [ 0,  4, 14, 27, 27, 29, 27, 29, 18,  0],\n",
       "       [ 0,  0,  0,  0,  0,  0,  0,  0,  0,  0]])"
      ]
     },
     "execution_count": 25,
     "metadata": {},
     "output_type": "execute_result"
    }
   ],
   "source": [
    "map_ = np.array(\n",
    "    [[0,0,0,0,0,0,0,0,0,0]\n",
    "    ,[0,22,7,0,20,0,0,0,16,0]\n",
    "    ,[0,0,0,15,18,0,0,27,28,0]\n",
    "    ,[0,2,4,4,26,0,21,23,26,0]\n",
    "    ,[0,10,15,7,22,14,20,26,14,0]\n",
    "    ,[0,0,14,15,14,4,23,14,14,0]\n",
    "    ,[0,10,20,21,16,14,23,20,17,0]\n",
    "    ,[0,2,26,15,28,23,10,17,10,0]\n",
    "    ,[0,4,14,27,27,29,27,29,18,0]\n",
    "    ,[0,0,0,0,0,0,0,0,0,0]])\n",
    "map_"
   ]
  },
  {
   "cell_type": "code",
   "execution_count": 26,
   "metadata": {},
   "outputs": [],
   "source": [
    "ls = MyLinkSearch()\n",
    "ls.map = map_"
   ]
  },
  {
   "cell_type": "code",
   "execution_count": 27,
   "metadata": {},
   "outputs": [
    {
     "name": "stdout",
     "output_type": "stream",
     "text": [
      "more than 4 lines.\n"
     ]
    }
   ],
   "source": [
    "\"\"\"Linked (2, 7) 27 to (8, 3) 27.\"\"\"\n",
    "ls.search_link(2, 7, 8, 3)"
   ]
  },
  {
   "cell_type": "code",
   "execution_count": null,
   "metadata": {},
   "outputs": [],
   "source": []
  }
 ],
 "metadata": {
  "kernelspec": {
   "display_name": "Python 3",
   "language": "python",
   "name": "python3"
  },
  "language_info": {
   "codemirror_mode": {
    "name": "ipython",
    "version": 3
   },
   "file_extension": ".py",
   "mimetype": "text/x-python",
   "name": "python",
   "nbconvert_exporter": "python",
   "pygments_lexer": "ipython3",
   "version": "3.6.9"
  }
 },
 "nbformat": 4,
 "nbformat_minor": 4
}
