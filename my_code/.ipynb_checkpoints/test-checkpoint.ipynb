{
 "cells": [
  {
   "cell_type": "code",
   "execution_count": 2,
   "metadata": {},
   "outputs": [],
   "source": [
    "import numpy as np\n",
    "import random\n",
    "import time\n",
    "from IPython.display import display,Latex,Math\n",
    "%matplotlib inline\n",
    " \n",
    "from IPython.core.interactiveshell import InteractiveShell\n",
    "sh = InteractiveShell.instance()\n",
    " \n",
    "def number_to_str(n,cut=5):\n",
    "    ns=str(n)\n",
    "    format_='{0:.'+str(cut)+'f}'\n",
    "    if 'e' in ns or ('.' in ns and len(ns)>cut+1):\n",
    "        return format_.format(n)\n",
    "    else:\n",
    "        if n == 0:\n",
    "            return (\"{\\color{blue} %s}\" %n)\n",
    "        return str(n)\n",
    " \n",
    "def matrix_to_latex(mat,style='bmatrix'):\n",
    "    if type(mat)==np.matrixlib.defmatrix.matrix:\n",
    "        mat=mat.A\n",
    "    head=r'\\begin{'+style+'}'\n",
    "    tail=r'\\end{'+style+'}'\n",
    "    if len(mat.shape)==1:\n",
    "        body=r'\\\\'.join([str(el) for el in mat])\n",
    "        return head+body+tail\n",
    "    elif len(mat.shape)==2:\n",
    "        lines=[]\n",
    "        for row in mat:\n",
    "            lines.append('&'.join([number_to_str(el)  for el in row])+r'\\\\')\n",
    "        s=head+' '.join(lines)+tail\n",
    "        return s\n",
    "    return None\n",
    " \n",
    "sh.display_formatter.formatters['text/latex'].type_printers[np.ndarray]=matrix_to_latex"
   ]
  },
  {
   "cell_type": "code",
   "execution_count": 3,
   "metadata": {
    "tags": []
   },
   "outputs": [
    {
     "name": "stdout",
     "output_type": "stream",
     "text": [
      "[[ 0  0  0  0  0  0  0  0  0  0]\n",
      " [ 0 18 15 25 29 17 14 11 22  0]\n",
      " [ 0 24  5 18 21 11 21 19 14  0]\n",
      " [ 0 26 18 24  5  1 12  2  2  0]\n",
      " [ 0 22 19  7 19 11 16 20 10  0]\n",
      " [ 0 18 15 25 29 17 14 11 22  0]\n",
      " [ 0 24  5 18 21 11 21 19 14  0]\n",
      " [ 0 26 18 24  5  1 12  2  2  0]\n",
      " [ 0 22 19  7 19 11 16 20 10  0]\n",
      " [ 0  0  0  0  0  0  0  0  0  0]]\n"
     ]
    }
   ],
   "source": [
    "N_KIND = 3 * 10\n",
    "\n",
    "def generate_map():\n",
    "    sample_list = random.choices(range(1, N_KIND), k=32) * 2\n",
    "    return np.array(sample_list, dtype=np.int).reshape(8, 8)\n",
    "\n",
    "main_map = generate_map()\n",
    "main_map = np.pad(main_map,((1,1),(1,1)),'constant',constant_values = (0,0)) \n",
    "print(main_map)"
   ]
  },
  {
   "cell_type": "code",
   "execution_count": 25,
   "metadata": {},
   "outputs": [],
   "source": [
    "\n",
    "def link(x1, y1, x2, y2):\n",
    "    if main_map[x1, y1] == main_map[x2, y2]:\n",
    "        print(\"Linked (%s, %s) to (%s, %s).\" % (x1, y1, x2, y2))\n",
    "        main_map[x1, y1] = 0\n",
    "        main_map[x2, y2] = 0\n",
    "    else:\n",
    "        print('error!')\n",
    "\n",
    "def direct(x1, y1, x2, y2):\n",
    "    if x1 == x2 and y1 == y2:\n",
    "        return False\n",
    "    elif x1 == x2:    # 平行y轴\n",
    "        return not main_map[x1, y1:y2:(2*(y1 < y2)-1)][1:].any()\n",
    "    elif y1 == y2:    # 平行x轴\n",
    "        return not main_map[x1:x2:(2*(x1 < x2)-1), y1][1:].any()\n",
    "    return False\n",
    "\n",
    "def is_empty(x, y):\n",
    "    return not main_map[x, y]\n",
    "\n",
    "def get_boarder(x, y, direct):\n",
    "    if direct=='x':\n",
    "        a = b = x\n",
    "        while a>0 and is_empty(a-1, y):\n",
    "            a -= 1\n",
    "        while b<9 and is_empty(b+1, y):\n",
    "            b += 1\n",
    "    elif direct=='y':\n",
    "        a = b = y\n",
    "        while a>0 and is_empty(x, a-1):\n",
    "            a -= 1\n",
    "        while b<9 and is_empty(x, b+1):\n",
    "            b += 1\n",
    "    return a, b + 1\n",
    "\n",
    "def one_corner(x1, y1, x2, y2):\n",
    "    p1 = direct(x1, y2, x1, y1) and direct(x1, y2, x2, y2) and not main_map[x1, y2] # x1, y2\n",
    "    p2 = direct(x2, y1, x1, y1) and direct(x2, y1, x2, y2) and not main_map[x2, y1] # x2, y1\n",
    "    return p1 or p2\n",
    "    \n",
    "def two_corner(x1, y1, x2, y2):\n",
    "\n",
    "    a1, b1 = get_boarder(x1, y1, 'y')\n",
    "    a2, b2 = get_boarder(x2, y2, 'y')\n",
    "    for y in range(max(a1, a2), min(b1, b2)):\n",
    "        if direct(x1, y, x2, y):\n",
    "            return True\n",
    "    \n",
    "    a1, b1 = get_boarder(x1, y1, 'x')\n",
    "    a2, b2 = get_boarder(x2, y2, 'x')\n",
    "    for x in range(max(a1, a2), min(b1, b2)):\n",
    "        if direct(x, y1, x, y2):\n",
    "            return True\n",
    "\n",
    "    # for x in range(10):  # (x, y1) (x, y2)\n",
    "    #     if not(main_map[x, y1] or main_map[x, y2])\\\n",
    "    #     and direct(x1, y1, x, y1) and direct(x, y1, x, y2) and direct(x, y2, x2, y2):\n",
    "    #         return True\n",
    "\n",
    "    # for y in range(10):  # (x1, y) (x2, y)\n",
    "    #     if not(main_map[x1, y] or main_map[x2, y])\\\n",
    "    #     and direct(x1, y1, x1, y) and direct(x1, y, x2, y) and direct(x2, y, x2, y2):\n",
    "    #         return True\n",
    "    \n",
    "    return False\n",
    "\n",
    "def three_corner(x1, y1, x2, y2):\n",
    "    \n",
    "    ax1, bx1 = get_boarder(x1, y1, 'x')\n",
    "    ay2, by2 = get_boarder(x2, y2, 'y')\n",
    "    ax2, bx2 = get_boarder(x2, y2, 'x')\n",
    "    ay1, by1 = get_boarder(x1, y1, 'y')\n",
    "    \n",
    "    for x in range(ax1, bx1):\n",
    "        for y in range(ay2, by2):\n",
    "            if is_empty(x, y) and direct(x1, y, x, y) and direct(x, y, x, y2):\n",
    "                return True\n",
    "\n",
    "    for x in range(ax2, bx2):\n",
    "        for y in range(ay1, by1):\n",
    "            if is_empty(x, y) and direct(x2, y, x, y) and direct(x, y, x, y1):\n",
    "                return True\n",
    "    \n",
    "#     for x in range(min(ax1, ax2), max(bx1, bx2)):\n",
    "#         for y in range(min(ay1, ay2), max(by1, by2)):\n",
    "#             p1 = not (main_map[x1, y] or main_map[x, y] or main_map[x, y2]) and\\\n",
    "#                 direct(x1, y1, x1, y) and direct(x1, y, x, y) and direct(x, y, x, y2) and direct(x, y2, x2, y2)\n",
    "#             p2 = not (main_map[x, y1] or main_map[x, y] or main_map[x2, y]) and\\\n",
    "#                 direct(x1, y1, x, y1) and direct(x, y1, x, y) and direct(x, y, x2, y) and direct(x2, y, x2, y2)\n",
    "#             if p1 or p2:\n",
    "#                 return True\n",
    "    return False\n",
    "\n",
    "def get_score(x1, y1, x2, y2):\n",
    "    if direct(x1, y1, x2, y2):\n",
    "#         print('1 line.')\n",
    "        return 50\n",
    "    elif one_corner(x1, y1, x2, y2):\n",
    "#         print('2 lines.')\n",
    "        return 20\n",
    "    elif two_corner(x1, y1, x2, y2):\n",
    "#         print('3 lines.')\n",
    "        return 10\n",
    "    elif three_corner(x1, y1, x2, y2):\n",
    "#         print('4 lines.')\n",
    "        return 0\n",
    "    else:\n",
    "#         print('more than 4 lines.')\n",
    "        return None"
   ]
  },
  {
   "cell_type": "code",
   "execution_count": 3,
   "metadata": {},
   "outputs": [],
   "source": [
    "import sys\n",
    "sys.path.append(\"../auto_grader/\")\n",
    "import link_search\n",
    "import auto_grader"
   ]
  },
  {
   "cell_type": "code",
   "execution_count": 4,
   "metadata": {
    "tags": []
   },
   "outputs": [
    {
     "name": "stdout",
     "output_type": "stream",
     "text": [
      "开始读取mnist数据集:图片集:../mnist_data/t10k-images.idx3-ubyte,标签集:../mnist_data/t10k-labels.idx1-ubyte\n",
      "读取完毕mnist数据集\n",
      "魔数校验成功\n",
      "图片集和标签集长度校核为相等\n",
      "随机取样完成\n",
      "图片显示完毕\n"
     ]
    }
   ],
   "source": [
    "ag = auto_grader.auto_grader(False)"
   ]
  },
  {
   "cell_type": "code",
   "execution_count": 5,
   "metadata": {},
   "outputs": [],
   "source": [
    "raw_map = ag.get_ans()\n",
    "ls = link_search.link_search(raw_map)"
   ]
  },
  {
   "cell_type": "code",
   "execution_count": 6,
   "metadata": {},
   "outputs": [],
   "source": [
    "colour_map = np.reshape(np.array(raw_map)[:, 0], (8, 8))\n",
    "num_map = np.reshape(np.array(raw_map)[:, 1], (8, 8))"
   ]
  },
  {
   "cell_type": "code",
   "execution_count": 7,
   "metadata": {},
   "outputs": [
    {
     "data": {
      "text/latex": [
       "\\begin{bmatrix}{\\color{blue} 0}&{\\color{blue} 0}&{\\color{blue} 0}&{\\color{blue} 0}&{\\color{blue} 0}&{\\color{blue} 0}&{\\color{blue} 0}&{\\color{blue} 0}&{\\color{blue} 0}&{\\color{blue} 0}\\\\ {\\color{blue} 0}&7&16&3&21&11&7&11&4&{\\color{blue} 0}\\\\ {\\color{blue} 0}&6&20&10&3&11&23&6&8&{\\color{blue} 0}\\\\ {\\color{blue} 0}&19&20&7&12&26&10&16&13&{\\color{blue} 0}\\\\ {\\color{blue} 0}&18&19&11&24&8&1&12&18&{\\color{blue} 0}\\\\ {\\color{blue} 0}&30&26&24&20&4&23&30&23&{\\color{blue} 0}\\\\ {\\color{blue} 0}&11&11&30&20&10&30&1&7&{\\color{blue} 0}\\\\ {\\color{blue} 0}&20&4&21&4&23&11&6&20&{\\color{blue} 0}\\\\ {\\color{blue} 0}&20&11&1&10&20&13&1&6&{\\color{blue} 0}\\\\ {\\color{blue} 0}&{\\color{blue} 0}&{\\color{blue} 0}&{\\color{blue} 0}&{\\color{blue} 0}&{\\color{blue} 0}&{\\color{blue} 0}&{\\color{blue} 0}&{\\color{blue} 0}&{\\color{blue} 0}\\\\\\end{bmatrix}"
      ],
      "text/plain": [
       "array([[ 0,  0,  0,  0,  0,  0,  0,  0,  0,  0],\n",
       "       [ 0,  7, 16,  3, 21, 11,  7, 11,  4,  0],\n",
       "       [ 0,  6, 20, 10,  3, 11, 23,  6,  8,  0],\n",
       "       [ 0, 19, 20,  7, 12, 26, 10, 16, 13,  0],\n",
       "       [ 0, 18, 19, 11, 24,  8,  1, 12, 18,  0],\n",
       "       [ 0, 30, 26, 24, 20,  4, 23, 30, 23,  0],\n",
       "       [ 0, 11, 11, 30, 20, 10, 30,  1,  7,  0],\n",
       "       [ 0, 20,  4, 21,  4, 23, 11,  6, 20,  0],\n",
       "       [ 0, 20, 11,  1, 10, 20, 13,  1,  6,  0],\n",
       "       [ 0,  0,  0,  0,  0,  0,  0,  0,  0,  0]])"
      ]
     },
     "execution_count": 7,
     "metadata": {},
     "output_type": "execute_result"
    }
   ],
   "source": [
    "main_map = num_map + colour_map * 10 + 1\n",
    "main_map = np.pad(main_map,((1,1),(1,1)),'constant',constant_values = (0,0)) \n",
    "main_map"
   ]
  },
  {
   "cell_type": "code",
   "execution_count": 27,
   "metadata": {
    "tags": []
   },
   "outputs": [],
   "source": [
    "x1, y1, x2, y2 = 3, 1, 6, 8"
   ]
  },
  {
   "cell_type": "code",
   "execution_count": 41,
   "metadata": {
    "tags": []
   },
   "outputs": [
    {
     "name": "stdout",
     "output_type": "stream",
     "text": [
      "58.8 µs ± 1.91 µs per loop (mean ± std. dev. of 7 runs, 10000 loops each)\n"
     ]
    }
   ],
   "source": [
    "print(ls.search(x1-1, y1-1, x2-1, y2-1))"
   ]
  },
  {
   "cell_type": "code",
   "execution_count": 11,
   "metadata": {},
   "outputs": [],
   "source": [
    "main_map[4, 8] = 0"
   ]
  },
  {
   "cell_type": "code",
   "execution_count": 26,
   "metadata": {},
   "outputs": [
    {
     "data": {
      "text/latex": [
       "\\begin{bmatrix}{\\color{blue} 0}&{\\color{blue} 0}&{\\color{blue} 0}&{\\color{blue} 0}&{\\color{blue} 0}&{\\color{blue} 0}&{\\color{blue} 0}&{\\color{blue} 0}&{\\color{blue} 0}&{\\color{blue} 0}\\\\ {\\color{blue} 0}&18&15&25&29&17&14&11&22&{\\color{blue} 0}\\\\ {\\color{blue} 0}&24&5&18&21&11&21&19&14&{\\color{blue} 0}\\\\ {\\color{blue} 0}&26&18&24&5&1&12&2&2&{\\color{blue} 0}\\\\ {\\color{blue} 0}&22&19&7&19&11&16&20&{\\color{blue} 0}&{\\color{blue} 0}\\\\ {\\color{blue} 0}&18&15&25&29&17&14&11&22&{\\color{blue} 0}\\\\ {\\color{blue} 0}&24&5&18&21&11&21&19&14&{\\color{blue} 0}\\\\ {\\color{blue} 0}&26&18&24&5&1&12&2&2&{\\color{blue} 0}\\\\ {\\color{blue} 0}&22&19&7&19&11&16&20&10&{\\color{blue} 0}\\\\ {\\color{blue} 0}&{\\color{blue} 0}&{\\color{blue} 0}&{\\color{blue} 0}&{\\color{blue} 0}&{\\color{blue} 0}&{\\color{blue} 0}&{\\color{blue} 0}&{\\color{blue} 0}&{\\color{blue} 0}\\\\\\end{bmatrix}"
      ],
      "text/plain": [
       "array([[ 0,  0,  0,  0,  0,  0,  0,  0,  0,  0],\n",
       "       [ 0, 18, 15, 25, 29, 17, 14, 11, 22,  0],\n",
       "       [ 0, 24,  5, 18, 21, 11, 21, 19, 14,  0],\n",
       "       [ 0, 26, 18, 24,  5,  1, 12,  2,  2,  0],\n",
       "       [ 0, 22, 19,  7, 19, 11, 16, 20,  0,  0],\n",
       "       [ 0, 18, 15, 25, 29, 17, 14, 11, 22,  0],\n",
       "       [ 0, 24,  5, 18, 21, 11, 21, 19, 14,  0],\n",
       "       [ 0, 26, 18, 24,  5,  1, 12,  2,  2,  0],\n",
       "       [ 0, 22, 19,  7, 19, 11, 16, 20, 10,  0],\n",
       "       [ 0,  0,  0,  0,  0,  0,  0,  0,  0,  0]])"
      ]
     },
     "execution_count": 26,
     "metadata": {},
     "output_type": "execute_result"
    }
   ],
   "source": [
    "main_map"
   ]
  },
  {
   "cell_type": "code",
   "execution_count": 30,
   "metadata": {
    "tags": []
   },
   "outputs": [
    {
     "name": "stdout",
     "output_type": "stream",
     "text": [
      "20.6 µs ± 1.22 µs per loop (mean ± std. dev. of 7 runs, 10000 loops each)\n"
     ]
    }
   ],
   "source": [
    "%%timeit\n",
    "get_score(0, 1, 4, 7)"
   ]
  },
  {
   "cell_type": "code",
   "execution_count": 66,
   "metadata": {
    "tags": []
   },
   "outputs": [
    {
     "name": "stdout",
     "output_type": "stream",
     "text": [
      "3.75 µs ± 112 ns per loop (mean ± std. dev. of 7 runs, 100000 loops each)\n"
     ]
    }
   ],
   "source": [
    "%%timeit\n",
    "ls.search_zero(0, 0, 0, 8)"
   ]
  },
  {
   "cell_type": "code",
   "execution_count": 65,
   "metadata": {
    "tags": []
   },
   "outputs": [
    {
     "name": "stdout",
     "output_type": "stream",
     "text": [
      "3.24 µs ± 47.5 ns per loop (mean ± std. dev. of 7 runs, 100000 loops each)\n"
     ]
    }
   ],
   "source": [
    "%%timeit\n",
    "direct(0, 0, 0, 9)"
   ]
  },
  {
   "cell_type": "code",
   "execution_count": null,
   "metadata": {},
   "outputs": [],
   "source": []
  }
 ],
 "metadata": {
  "kernelspec": {
   "display_name": "Python 3",
   "language": "python",
   "name": "python3"
  },
  "language_info": {
   "codemirror_mode": {
    "name": "ipython",
    "version": 3
   },
   "file_extension": ".py",
   "mimetype": "text/x-python",
   "name": "python",
   "nbconvert_exporter": "python",
   "pygments_lexer": "ipython3",
   "version": "3.6.9"
  }
 },
 "nbformat": 4,
 "nbformat_minor": 2
}
