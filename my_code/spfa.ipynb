{
 "metadata": {
  "language_info": {
   "codemirror_mode": {
    "name": "ipython",
    "version": 3
   },
   "file_extension": ".py",
   "mimetype": "text/x-python",
   "name": "python",
   "nbconvert_exporter": "python",
   "pygments_lexer": "ipython3",
   "version": 3
  },
  "orig_nbformat": 2,
  "kernelspec": {
   "name": "python_defaultSpec_1596959564474",
   "display_name": "Python 3.6.9 64-bit"
  }
 },
 "nbformat": 4,
 "nbformat_minor": 2,
 "cells": [
  {
   "cell_type": "code",
   "execution_count": 1,
   "metadata": {},
   "outputs": [],
   "source": [
    "import random\n",
    "import numpy as np\n",
    "import math\n",
    "import itertools\n",
    "import matplotlib.pyplot as plt"
   ]
  },
  {
   "cell_type": "code",
   "execution_count": 2,
   "metadata": {},
   "outputs": [],
   "source": [
    "import time\n",
    "from IPython.display import display,Latex,Math\n",
    "%matplotlib inline\n",
    " \n",
    "from IPython.core.interactiveshell import InteractiveShell\n",
    "sh = InteractiveShell.instance()\n",
    " \n",
    "def number_to_str(n,cut=5):\n",
    "    ns=str(n)\n",
    "    format_='{0:.'+str(cut)+'f}'\n",
    "    if 'e' in ns or ('.' in ns and len(ns)>cut+1):\n",
    "        return format_.format(n)\n",
    "    else:\n",
    "        if n == 0:\n",
    "            return (\"{\\color{blue} %s}\" %n)\n",
    "        return str(n)\n",
    " \n",
    "def matrix_to_latex(mat,style='bmatrix'):\n",
    "    if type(mat)==np.matrixlib.defmatrix.matrix:\n",
    "        mat=mat.A\n",
    "    head=r'\\begin{'+style+'}'\n",
    "    tail=r'\\end{'+style+'}'\n",
    "    if len(mat.shape)==1:\n",
    "        body=r'\\\\'.join([str(el) for el in mat])\n",
    "        return head+body+tail\n",
    "    elif len(mat.shape)==2:\n",
    "        lines=[]\n",
    "        for row in mat:\n",
    "            lines.append('&'.join([number_to_str(el)  for el in row])+r'\\\\')\n",
    "        s=head+' '.join(lines)+tail\n",
    "        return s\n",
    "    return None\n",
    " \n",
    "sh.display_formatter.formatters['text/latex'].type_printers[np.ndarray]=matrix_to_latex"
   ]
  },
  {
   "cell_type": "code",
   "execution_count": 6,
   "metadata": {},
   "outputs": [
    {
     "output_type": "execute_result",
     "data": {
      "text/plain": "array([[ 0,  0,  0,  0,  0,  0,  0,  0,  0,  0],\n       [ 0, 22, 19, 19, 20,  8,  1, 24, 28,  0],\n       [ 0, 18, 24, 28, 27,  6,  5, 18, 27,  0],\n       [ 0,  5, 14, 27, 26, 22, 12, 13, 23,  0],\n       [ 0, 14,  3, 24, 22, 28, 28,  5, 12,  0],\n       [ 0, 22, 19, 19, 20,  8,  1, 24, 28,  0],\n       [ 0, 18, 24, 28, 27,  6,  5, 18, 27,  0],\n       [ 0,  5, 14, 27, 26, 22, 12, 13, 23,  0],\n       [ 0, 14,  3, 24, 22, 28, 28,  5, 12,  0],\n       [ 0,  0,  0,  0,  0,  0,  0,  0,  0,  0]])",
      "text/latex": "\\begin{bmatrix}{\\color{blue} 0}&{\\color{blue} 0}&{\\color{blue} 0}&{\\color{blue} 0}&{\\color{blue} 0}&{\\color{blue} 0}&{\\color{blue} 0}&{\\color{blue} 0}&{\\color{blue} 0}&{\\color{blue} 0}\\\\ {\\color{blue} 0}&22&19&19&20&8&1&24&28&{\\color{blue} 0}\\\\ {\\color{blue} 0}&18&24&28&27&6&5&18&27&{\\color{blue} 0}\\\\ {\\color{blue} 0}&5&14&27&26&22&12&13&23&{\\color{blue} 0}\\\\ {\\color{blue} 0}&14&3&24&22&28&28&5&12&{\\color{blue} 0}\\\\ {\\color{blue} 0}&22&19&19&20&8&1&24&28&{\\color{blue} 0}\\\\ {\\color{blue} 0}&18&24&28&27&6&5&18&27&{\\color{blue} 0}\\\\ {\\color{blue} 0}&5&14&27&26&22&12&13&23&{\\color{blue} 0}\\\\ {\\color{blue} 0}&14&3&24&22&28&28&5&12&{\\color{blue} 0}\\\\ {\\color{blue} 0}&{\\color{blue} 0}&{\\color{blue} 0}&{\\color{blue} 0}&{\\color{blue} 0}&{\\color{blue} 0}&{\\color{blue} 0}&{\\color{blue} 0}&{\\color{blue} 0}&{\\color{blue} 0}\\\\\\end{bmatrix}"
     },
     "metadata": {},
     "execution_count": 6
    }
   ],
   "source": [
    "def generate_map():\n",
    "    sample_list = random.choices(range(1, 30), k=32) * 2\n",
    "    return np.array(sample_list, dtype=np.int).reshape(8, 8)\n",
    "map_orig = np.pad(generate_map(), ((1,1),(1,1)), 'constant', constant_values=(0,0))\n",
    "map_orig"
   ]
  },
  {
   "cell_type": "code",
   "execution_count": null,
   "metadata": {},
   "outputs": [],
   "source": []
  },
  {
   "cell_type": "code",
   "execution_count": 4,
   "metadata": {},
   "outputs": [],
   "source": [
    "def search_link(x, y):\n",
    "    def get_boarder(x, y, direction):\n",
    "        if direction=='x':\n",
    "            a = b = x\n",
    "            while a>0 and self.is_empty(a-1, y):\n",
    "                a -= 1\n",
    "            while b<9 and self.is_empty(b+1, y):\n",
    "                b += 1\n",
    "        elif direction=='y':\n",
    "            a = b = y\n",
    "            while a>0 and self.is_empty(x, a-1):\n",
    "                a -= 1\n",
    "            while b<9 and self.is_empty(x, b+1):\n",
    "                b += 1\n",
    "        return a, b + 1\n",
    "        \n",
    "    turning_map = np.empty((10, 10))\n",
    "    turning_map[:] = np.inf\n",
    "    "
   ]
  },
  {
   "cell_type": "code",
   "execution_count": null,
   "metadata": {},
   "outputs": [],
   "source": []
  }
 ]
}