{
 "cells": [
  {
   "cell_type": "code",
   "execution_count": 9,
   "metadata": {},
   "outputs": [],
   "source": [
    "import numpy as np\n",
    "import random\n",
    "import time\n",
    "from IPython.display import display,Latex,Math\n",
    "%matplotlib inline\n",
    " \n",
    "from IPython.core.interactiveshell import InteractiveShell\n",
    "sh = InteractiveShell.instance()\n",
    " \n",
    "def number_to_str(n,cut=5):\n",
    "    ns=str(n)\n",
    "    format_='{0:.'+str(cut)+'f}'\n",
    "    if 'e' in ns or ('.' in ns and len(ns)>cut+1):\n",
    "        return format_.format(n)\n",
    "    else:\n",
    "        if n == 0:\n",
    "            return (\"{\\color{blue} %s}\" %n)\n",
    "        return str(n)\n",
    " \n",
    "def matrix_to_latex(mat,style='bmatrix'):\n",
    "    if type(mat)==np.matrixlib.defmatrix.matrix:\n",
    "        mat=mat.A\n",
    "    head=r'\\begin{'+style+'}'\n",
    "    tail=r'\\end{'+style+'}'\n",
    "    if len(mat.shape)==1:\n",
    "        body=r'\\\\'.join([str(el) for el in mat])\n",
    "        return head+body+tail\n",
    "    elif len(mat.shape)==2:\n",
    "        lines=[]\n",
    "        for row in mat:\n",
    "            lines.append('&'.join([number_to_str(el)  for el in row])+r'\\\\')\n",
    "        s=head+' '.join(lines)+tail\n",
    "        return s\n",
    "    return None\n",
    " \n",
    "sh.display_formatter.formatters['text/latex'].type_printers[np.ndarray]=matrix_to_latex"
   ]
  },
  {
   "cell_type": "code",
   "execution_count": 10,
   "metadata": {
    "tags": []
   },
   "outputs": [
    {
     "output_type": "stream",
     "name": "stdout",
     "text": "[[ 0  0  0  0  0  0  0  0  0  0]\n [ 0 13 24 22 14 20  6 20  9  0]\n [ 0  9  9 13 22 26 16 10 14  0]\n [ 0  8 15  3  9  9 29 21 22  0]\n [ 0 27 22 16 16 27 17  3  5  0]\n [ 0 13 24 22 14 20  6 20  9  0]\n [ 0  9  9 13 22 26 16 10 14  0]\n [ 0  8 15  3  9  9 29 21 22  0]\n [ 0 27 22 16 16 27 17  3  5  0]\n [ 0  0  0  0  0  0  0  0  0  0]]\n"
    }
   ],
   "source": [
    "N_KIND = 3 * 10\n",
    "\n",
    "def generate_map():\n",
    "    sample_list = random.choices(range(1, N_KIND), k=32) * 2\n",
    "    return np.array(sample_list, dtype=np.int).reshape(8, 8)\n",
    "\n",
    "main_map = generate_map()\n",
    "main_map = np.pad(main_map,((1,1),(1,1)),'constant',constant_values = (0,0)) \n",
    "print(main_map)"
   ]
  },
  {
   "cell_type": "code",
   "execution_count": 11,
   "metadata": {},
   "outputs": [],
   "source": [
    "\n",
    "def link(x1, y1, x2, y2):\n",
    "    if main_map[x1, y1] == main_map[x2, y2]:\n",
    "        print(\"Linked (%s, %s) to (%s, %s).\" % (x1, y1, x2, y2))\n",
    "        main_map[x1, y1] = 0\n",
    "        main_map[x2, y2] = 0\n",
    "    else:\n",
    "        print('error!')\n",
    "\n",
    "def direct(x1, y1, x2, y2):\n",
    "    if x1 == x2 and y1 != y2:    # 平行y轴\n",
    "        return not main_map[x1, y1:y2:(2*(y1 < y2)-1)][1:].any()\n",
    "    if y1 == y2 and x1 != x2:    # 平行x轴\n",
    "        return not main_map[x1:x2:(2*(x1 < x2)-1), y1][1:].any()\n",
    "    return False\n",
    "\n",
    "def one_corner(x1, y1, x2, y2):\n",
    "    p1 = direct(x1, y2, x1, y1) and direct(x1, y2, x2, y2) and not main_map[x1, y2] # x1, y2\n",
    "    p2 = direct(x2, y1, x1, y1) and direct(x2, y1, x2, y2) and not main_map[x2, y1] # x2, y1\n",
    "    return p1 or p2\n",
    "    \n",
    "def two_corner(x1, y1, x2, y2):\n",
    "    for x in range(10):  # (x, y1) (x, y2)\n",
    "        if not(main_map[x, y1] or main_map[x, y2])\\\n",
    "        and direct(x1, y1, x, y1) and direct(x, y1, x, y2) and direct(x, y2, x2, y2):\n",
    "            return True\n",
    "\n",
    "    for y in range(10):  # (x1, y) (x2, y)\n",
    "        if not(main_map[x1, y] or main_map[x2, y])\\\n",
    "        and direct(x1, y1, x1, y) and direct(x1, y, x2, y) and direct(x2, y, x2, y2):\n",
    "            return True\n",
    "    \n",
    "    return False\n",
    "\n",
    "def three_corner(x1, y1, x2, y2):\n",
    "    for x in range(10):\n",
    "        for y in range(10):\n",
    "            p1 = not (main_map[x1, y] or main_map[x, y] or main_map[x, y2]) and\\\n",
    "                direct(x1, y1, x1, y) and direct(x1, y, x, y) and direct(x, y, x, y2) and direct(x, y2, x2, y2)\n",
    "            p2 = not (main_map[x, y1] or main_map[x, y] or main_map[x2, y]) and\\\n",
    "                direct(x1, y1, x, y1) and direct(x, y1, x, y) and direct(x, y, x2, y) and direct(x2, y, x2, y2)\n",
    "            if p1 or p2:\n",
    "                return True\n",
    "    return False\n",
    "\n",
    "def get_score(x1, y1, x2, y2):\n",
    "    if direct(x1, y1, x2, y2):\n",
    "#         print('1 line.')\n",
    "        return 50\n",
    "    elif one_corner(x1, y1, x2, y2):\n",
    "#         print('2 lines.')\n",
    "        return 10\n",
    "    elif two_corner(x1, y1, x2, y2):\n",
    "#         print('3 lines.')\n",
    "        return 20\n",
    "    elif three_corner(x1, y1, x2, y2):\n",
    "#         print('4 lines.')\n",
    "        return 0\n",
    "    else:\n",
    "#         print('more than 4 lines.')\n",
    "        return None"
   ]
  },
  {
   "cell_type": "code",
   "execution_count": 12,
   "metadata": {},
   "outputs": [
    {
     "output_type": "execute_result",
     "data": {
      "text/plain": "array([[ 0,  0,  0,  0,  0,  0,  0,  0,  0,  0],\n       [ 0, 13, 24, 22, 14, 20,  6, 20,  9,  0],\n       [ 0,  9,  9, 13, 22, 26, 16, 10, 14,  0],\n       [ 0,  8, 15,  3,  9,  9, 29, 21, 22,  0],\n       [ 0, 27, 22, 16, 16, 27, 17,  3,  5,  0],\n       [ 0, 13, 24, 22, 14, 20,  6, 20,  9,  0],\n       [ 0,  9,  9, 13, 22, 26, 16, 10, 14,  0],\n       [ 0,  8, 15,  3,  9,  9, 29, 21, 22,  0],\n       [ 0, 27, 22, 16, 16, 27, 17,  3,  5,  0],\n       [ 0,  0,  0,  0,  0,  0,  0,  0,  0,  0]])",
      "text/latex": "\\begin{bmatrix}{\\color{blue} 0}&{\\color{blue} 0}&{\\color{blue} 0}&{\\color{blue} 0}&{\\color{blue} 0}&{\\color{blue} 0}&{\\color{blue} 0}&{\\color{blue} 0}&{\\color{blue} 0}&{\\color{blue} 0}\\\\ {\\color{blue} 0}&13&24&22&14&20&6&20&9&{\\color{blue} 0}\\\\ {\\color{blue} 0}&9&9&13&22&26&16&10&14&{\\color{blue} 0}\\\\ {\\color{blue} 0}&8&15&3&9&9&29&21&22&{\\color{blue} 0}\\\\ {\\color{blue} 0}&27&22&16&16&27&17&3&5&{\\color{blue} 0}\\\\ {\\color{blue} 0}&13&24&22&14&20&6&20&9&{\\color{blue} 0}\\\\ {\\color{blue} 0}&9&9&13&22&26&16&10&14&{\\color{blue} 0}\\\\ {\\color{blue} 0}&8&15&3&9&9&29&21&22&{\\color{blue} 0}\\\\ {\\color{blue} 0}&27&22&16&16&27&17&3&5&{\\color{blue} 0}\\\\ {\\color{blue} 0}&{\\color{blue} 0}&{\\color{blue} 0}&{\\color{blue} 0}&{\\color{blue} 0}&{\\color{blue} 0}&{\\color{blue} 0}&{\\color{blue} 0}&{\\color{blue} 0}&{\\color{blue} 0}\\\\\\end{bmatrix}"
     },
     "metadata": {},
     "execution_count": 12
    }
   ],
   "source": [
    "main_map"
   ]
  },
  {
   "cell_type": "code",
   "execution_count": 22,
   "metadata": {},
   "outputs": [],
   "source": [
    "import sys\n",
    "sys.path.append(\"../../auto_grader/\")\n",
    "sys.path.append(\"../../read_picture/\")\n",
    "sys.path.append(\"../../mnist_data/\")\n",
    "import link_search\n",
    "import auto_grader"
   ]
  },
  {
   "cell_type": "code",
   "execution_count": 23,
   "metadata": {},
   "outputs": [
    {
     "output_type": "error",
     "ename": "FileNotFoundError",
     "evalue": "[Errno 2] No such file or directory: '../mnist_data/t10k-images.idx3-ubyte'",
     "traceback": [
      "\u001b[0;31m---------------------------------------------------------------------------\u001b[0m",
      "\u001b[0;31mFileNotFoundError\u001b[0m                         Traceback (most recent call last)",
      "\u001b[0;32m<ipython-input-23-388ac59c8170>\u001b[0m in \u001b[0;36m<module>\u001b[0;34m\u001b[0m\n\u001b[0;32m----> 1\u001b[0;31m \u001b[0mag\u001b[0m \u001b[0;34m=\u001b[0m \u001b[0mauto_grader\u001b[0m\u001b[0;34m.\u001b[0m\u001b[0mauto_grader\u001b[0m\u001b[0;34m(\u001b[0m\u001b[0;32mFalse\u001b[0m\u001b[0;34m)\u001b[0m\u001b[0;34m\u001b[0m\u001b[0;34m\u001b[0m\u001b[0m\n\u001b[0m",
      "\u001b[0;32m~/Program/Python/SummerCamp/auto_grader/auto_grader.py\u001b[0m in \u001b[0;36m__init__\u001b[0;34m(O0O0O000O0O0O00OO, enable_ui)\u001b[0m\n\u001b[1;32m     19\u001b[0m         \u001b[0mOOO00O00O00OO000O\u001b[0m \u001b[0;34m=\u001b[0m \u001b[0;34m'../mnist_data/t10k-images.idx3-ubyte'\u001b[0m  \u001b[0;31m# line:19\u001b[0m\u001b[0;34m\u001b[0m\u001b[0;34m\u001b[0m\u001b[0m\n\u001b[1;32m     20\u001b[0m         \u001b[0mO0O00000OOOOOOOO0\u001b[0m \u001b[0;34m=\u001b[0m \u001b[0;34m'../mnist_data/t10k-labels.idx1-ubyte'\u001b[0m  \u001b[0;31m# line:20\u001b[0m\u001b[0;34m\u001b[0m\u001b[0;34m\u001b[0m\u001b[0m\n\u001b[0;32m---> 21\u001b[0;31m         \u001b[0mself\u001b[0m\u001b[0;34m.\u001b[0m\u001b[0mans\u001b[0m \u001b[0;34m=\u001b[0m \u001b[0mO0O0O000O0O0O00OO\u001b[0m\u001b[0;34m.\u001b[0m\u001b[0mrandom_image\u001b[0m\u001b[0;34m(\u001b[0m\u001b[0mOOO00O00O00OO000O\u001b[0m\u001b[0;34m,\u001b[0m \u001b[0mO0O00000OOOOOOOO0\u001b[0m\u001b[0;34m)\u001b[0m  \u001b[0;31m# line:21\u001b[0m\u001b[0;34m\u001b[0m\u001b[0;34m\u001b[0m\u001b[0m\n\u001b[0m\u001b[1;32m     22\u001b[0m         \u001b[0mO0O0O000O0O0O00OO\u001b[0m\u001b[0;34m.\u001b[0m\u001b[0mload_images\u001b[0m\u001b[0;34m(\u001b[0m\u001b[0;34m)\u001b[0m  \u001b[0;31m# line:22\u001b[0m\u001b[0;34m\u001b[0m\u001b[0;34m\u001b[0m\u001b[0m\n\u001b[1;32m     23\u001b[0m         \u001b[0mO0O0O000O0O0O00OO\u001b[0m\u001b[0;34m.\u001b[0m\u001b[0mls\u001b[0m \u001b[0;34m=\u001b[0m \u001b[0mlink_search\u001b[0m\u001b[0;34m(\u001b[0m\u001b[0mself\u001b[0m\u001b[0;34m.\u001b[0m\u001b[0mans\u001b[0m\u001b[0;34m)\u001b[0m  \u001b[0;31m# line:23\u001b[0m\u001b[0;34m\u001b[0m\u001b[0;34m\u001b[0m\u001b[0m\n",
      "\u001b[0;32m~/Program/Python/SummerCamp/auto_grader/auto_grader.py\u001b[0m in \u001b[0;36mrandom_image\u001b[0;34m(O0O0OO0OOOO0OO0OO, OOO0O0OO00OOO0000, OOOOOOO0000000OO0)\u001b[0m\n\u001b[1;32m     34\u001b[0m                      OOOOOOO0000000OO0):  # line:31\n\u001b[1;32m     35\u001b[0m         OO0O0OOO0OOOO00OO, O0OOO0000000OO0OO = read_picture.read_image_data(\n\u001b[0;32m---> 36\u001b[0;31m             OOO0O0OO00OOO0000, OOOOOOO0000000OO0)  # line:33\n\u001b[0m\u001b[1;32m     37\u001b[0m         OO0O0OO0O0O000000 = random.sample(range(0, len(OO0O0OOO0OOOO00OO)),\n\u001b[1;32m     38\u001b[0m                                           32)  # line:34\n",
      "\u001b[0;32m~/Program/Python/SummerCamp/read_picture/read_picture.py\u001b[0m in \u001b[0;36mread_image_data\u001b[0;34m(image_path, label_path)\u001b[0m\n\u001b[1;32m      5\u001b[0m \u001b[0;31m#读取图片和标签\u001b[0m\u001b[0;34m\u001b[0m\u001b[0;34m\u001b[0m\u001b[0;34m\u001b[0m\u001b[0m\n\u001b[1;32m      6\u001b[0m \u001b[0;32mdef\u001b[0m \u001b[0mread_image_data\u001b[0m\u001b[0;34m(\u001b[0m\u001b[0mimage_path\u001b[0m\u001b[0;34m,\u001b[0m  \u001b[0mlabel_path\u001b[0m\u001b[0;34m)\u001b[0m\u001b[0;34m:\u001b[0m\u001b[0;34m\u001b[0m\u001b[0;34m\u001b[0m\u001b[0m\n\u001b[0;32m----> 7\u001b[0;31m     \u001b[0mimage_file\u001b[0m \u001b[0;34m=\u001b[0m \u001b[0mopen\u001b[0m\u001b[0;34m(\u001b[0m\u001b[0mimage_path\u001b[0m\u001b[0;34m,\u001b[0m \u001b[0;34m'rb'\u001b[0m\u001b[0;34m)\u001b[0m\u001b[0;34m\u001b[0m\u001b[0;34m\u001b[0m\u001b[0m\n\u001b[0m\u001b[1;32m      8\u001b[0m     \u001b[0mlabel_file\u001b[0m \u001b[0;34m=\u001b[0m \u001b[0mopen\u001b[0m\u001b[0;34m(\u001b[0m\u001b[0mlabel_path\u001b[0m\u001b[0;34m,\u001b[0m \u001b[0;34m'rb'\u001b[0m\u001b[0;34m)\u001b[0m\u001b[0;34m\u001b[0m\u001b[0;34m\u001b[0m\u001b[0m\n\u001b[1;32m      9\u001b[0m \u001b[0;34m\u001b[0m\u001b[0m\n",
      "\u001b[0;31mFileNotFoundError\u001b[0m: [Errno 2] No such file or directory: '../mnist_data/t10k-images.idx3-ubyte'"
     ]
    }
   ],
   "source": [
    "ag = auto_grader.auto_grader(False)\n"
   ]
  },
  {
   "cell_type": "code",
   "execution_count": null,
   "metadata": {},
   "outputs": [],
   "source": [
    "ls = link_search.link_search()"
   ]
  }
 ],
 "metadata": {
  "kernelspec": {
   "display_name": "Python 3",
   "language": "python",
   "name": "python3"
  },
  "language_info": {
   "codemirror_mode": {
    "name": "ipython",
    "version": 3
   },
   "file_extension": ".py",
   "mimetype": "text/x-python",
   "name": "python",
   "nbconvert_exporter": "python",
   "pygments_lexer": "ipython3",
   "version": "3.6.9"
  }
 },
 "nbformat": 4,
 "nbformat_minor": 2
}